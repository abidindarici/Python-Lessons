{
 "cells": [
  {
   "cell_type": "code",
   "execution_count": 10,
   "metadata": {},
   "outputs": [
    {
     "name": "stdout",
     "output_type": "stream",
     "text": [
      "('ali', 'veli', 1, 2, 3, [1, 2, 3])\n"
     ]
    }
   ],
   "source": [
    "# veri yapıları - tuple\n",
    "# tuple'lar list'lerden farklı olarak değiştirilemezler\n",
    "# tuple'lar list'lerden daha hızlıdır\n",
    "# tuple'lar list'lerden daha az yer kaplar\n",
    "# tuple'lar list'lerden daha güvenlidir\n",
    "# tuple'lar list'lerden daha az hata yapma ihtimaline sahiptir\n",
    "\n",
    "# tuple oluşturma\n",
    "# tuple'lar parantez içerisinde tanımlanır\n",
    "\n",
    "t = (\"ali\", \"veli\", 1, 2, 3,[1,2,3])\n",
    "print(t)\n"
   ]
  },
  {
   "cell_type": "code",
   "execution_count": 8,
   "metadata": {},
   "outputs": [],
   "source": [
    "t = \"ali\", \"veli\", 1, 2, 3,[1,2,3]"
   ]
  },
  {
   "cell_type": "code",
   "execution_count": 9,
   "metadata": {},
   "outputs": [],
   "source": [
    "#tek elemanlı tuple oluşturma, sonuna virgül koyulması gerekmektedir.\n",
    "t=(\"eleman\",)\n"
   ]
  }
 ],
 "metadata": {
  "kernelspec": {
   "display_name": "Python 3.10.7 64-bit",
   "language": "python",
   "name": "python3"
  },
  "language_info": {
   "codemirror_mode": {
    "name": "ipython",
    "version": 3
   },
   "file_extension": ".py",
   "mimetype": "text/x-python",
   "name": "python",
   "nbconvert_exporter": "python",
   "pygments_lexer": "ipython3",
   "version": "3.10.7"
  },
  "orig_nbformat": 4,
  "vscode": {
   "interpreter": {
    "hash": "aee8b7b246df8f9039afb4144a1f6fd8d2ca17a180786b69acc140d282b71a49"
   }
  }
 },
 "nbformat": 4,
 "nbformat_minor": 2
}
