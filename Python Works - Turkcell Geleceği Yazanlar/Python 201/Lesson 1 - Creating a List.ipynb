{
 "cells": [
  {
   "cell_type": "code",
   "execution_count": 2,
   "metadata": {},
   "outputs": [
    {
     "data": {
      "text/plain": [
       "3"
      ]
     },
     "execution_count": 2,
     "metadata": {},
     "output_type": "execute_result"
    }
   ],
   "source": [
    "# VERİ YAPILARI\n",
    "\n",
    "# Listeler\n",
    "\n",
    "#KÖŞELİ PARANTEZLER VEYA \"LİST()\" YAZARAK LİSTE OLUŞTURABİLİRİZ.\n",
    "\n",
    "notlar = [90, 80 , 70, 60, 50, 40, 30, 20, 10]\n",
    "\n",
    "type(notlar)\n",
    "\n",
    "liste = [\"a\", 19.3, 9]\n",
    "\n",
    "liste_genis = [\"a\", 1.3, 5]\n",
    "\n",
    "len(liste_genis)"
   ]
  },
  {
   "cell_type": "code",
   "execution_count": null,
   "metadata": {},
   "outputs": [],
   "source": []
  }
 ],
 "metadata": {
  "kernelspec": {
   "display_name": "Python 3.10.7 64-bit",
   "language": "python",
   "name": "python3"
  },
  "language_info": {
   "codemirror_mode": {
    "name": "ipython",
    "version": 3
   },
   "file_extension": ".py",
   "mimetype": "text/x-python",
   "name": "python",
   "nbconvert_exporter": "python",
   "pygments_lexer": "ipython3",
   "version": "3.10.7"
  },
  "orig_nbformat": 4,
  "vscode": {
   "interpreter": {
    "hash": "aee8b7b246df8f9039afb4144a1f6fd8d2ca17a180786b69acc140d282b71a49"
   }
  }
 },
 "nbformat": 4,
 "nbformat_minor": 2
}
